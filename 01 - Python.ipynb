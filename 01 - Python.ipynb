{
 "cells": [
  {
   "cell_type": "code",
   "execution_count": 1,
   "id": "4abd3a24",
   "metadata": {},
   "outputs": [],
   "source": [
    "#@title MIT License\n",
    "#\n",
    "# Copyright (c) 2020 Balázs Pintér \n",
    "#\n",
    "# Permission is hereby granted, free of charge, to any person obtaining a\n",
    "# copy of this software and associated documentation files (the \"Software\"),\n",
    "# to deal in the Software without restriction, including without limitation\n",
    "# the rights to use, copy, modify, merge, publish, distribute, sublicense,\n",
    "# and/or sell copies of the Software, and to permit persons to whom the\n",
    "# Software is furnished to do so, subject to the following conditions:\n",
    "#\n",
    "# The above copyright notice and this permission notice shall be included in\n",
    "# all copies or substantial portions of the Software.\n",
    "#\n",
    "# THE SOFTWARE IS PROVIDED \"AS IS\", WITHOUT WARRANTY OF ANY KIND, EXPRESS OR\n",
    "# IMPLIED, INCLUDING BUT NOT LIMITED TO THE WARRANTIES OF MERCHANTABILITY,\n",
    "# FITNESS FOR A PARTICULAR PURPOSE AND NONINFRINGEMENT. IN NO EVENT SHALL\n",
    "# THE AUTHORS OR COPYRIGHT HOLDERS BE LIABLE FOR ANY CLAIM, DAMAGES OR OTHER\n",
    "# LIABILITY, WHETHER IN AN ACTION OF CONTRACT, TORT OR OTHERWISE, ARISING\n",
    "# FROM, OUT OF OR IN CONNECTION WITH THE SOFTWARE OR THE USE OR OTHER\n",
    "# DEALINGS IN THE SOFTWARE."
   ]
  },
  {
   "cell_type": "markdown",
   "id": "9c578552",
   "metadata": {},
   "source": [
    "# Jupyter notebook basics\n",
    "\n",
    "We are going to use both Jupyter notebooks and plain Python code.\n",
    "\n",
    "- This is a markdown cell, the next ones are code cells\n",
    "- The notebook is running a kernel (here, Python), the code cells are executed by this kernel\n",
    "- Very useful to do any command or check shortcuts: Ctrl-Shift-C (p in earlier versions)\n",
    "- Move around: arrow keys or j, k\n",
    "- Run a cell and go to next cell: Shift+Enter\n",
    "- Go to edit mode to edit a cell: click or Enter\n",
    "- Get help about while editing: Shift-Tab, press twice to get more help\n",
    "- Back to command mode from edit mode: Esc\n",
    "- New cell above: a\n",
    "- New cell below: b\n",
    "- Delete cell: x\n",
    "- Run a cell and insert new cell below: Alt-Enter"
   ]
  },
  {
   "cell_type": "markdown",
   "id": "1eb7af31",
   "metadata": {},
   "source": [
    "# Python crash course\n",
    "Tutorial for reference: https://docs.python.org/3/tutorial/index.html"
   ]
  },
  {
   "cell_type": "markdown",
   "id": "d3a27670",
   "metadata": {},
   "source": [
    "## Variables and types\n",
    "\n",
    "Python is dynamically typed. The types belong to the objects and not their names.\n",
    "\n",
    "For example, `a = 3` assigns the object `3` to the name `a`. The name `a` will reference the object `3` from now on.\n",
    "\n",
    "`a` can be freely reassigned later."
   ]
  },
  {
   "cell_type": "code",
   "execution_count": 2,
   "id": "80f7bd9a",
   "metadata": {},
   "outputs": [],
   "source": [
    "a = 3 # int\n",
    "a = True # bool\n",
    "a = 4.2 # float"
   ]
  },
  {
   "cell_type": "markdown",
   "id": "e27f4c23",
   "metadata": {},
   "source": [
    "Python is strongly typed. For example, `'abc' + 3` would give an error."
   ]
  },
  {
   "cell_type": "markdown",
   "id": "c1c07fd7",
   "metadata": {},
   "source": [
    "## Sequence types"
   ]
  },
  {
   "cell_type": "code",
   "execution_count": 5,
   "id": "066e3294",
   "metadata": {},
   "outputs": [],
   "source": [
    "a = 'abc' # str\n",
    "b = [1, 2, 3, 4, 5] # list\n",
    "c = (1, 2, 3, 4) # tuple"
   ]
  },
  {
   "cell_type": "markdown",
   "id": "bd0776d3",
   "metadata": {},
   "source": [
    "Tuples are denoted by the comma. Multiple assignment is possible with tuples:"
   ]
  },
  {
   "cell_type": "code",
   "execution_count": 6,
   "id": "bce0a288",
   "metadata": {},
   "outputs": [],
   "source": [
    "a, b = 'abcdef', [1, 2, 3]"
   ]
  },
  {
   "cell_type": "code",
   "execution_count": 7,
   "id": "3cc374c2",
   "metadata": {},
   "outputs": [
    {
     "data": {
      "text/plain": [
       "('abcdef', [1, 2, 3])"
      ]
     },
     "execution_count": 7,
     "metadata": {},
     "output_type": "execute_result"
    }
   ],
   "source": [
    "a, b"
   ]
  },
  {
   "cell_type": "markdown",
   "id": "cd0d1439",
   "metadata": {},
   "source": [
    "Strings and tuples are immutable: `a[0] = 'x'` gives an error."
   ]
  },
  {
   "cell_type": "code",
   "execution_count": 8,
   "id": "ecb1898b",
   "metadata": {},
   "outputs": [],
   "source": [
    "l = [1, 'afgd', True] # lists can have different types in them, although usually they don't"
   ]
  },
  {
   "cell_type": "markdown",
   "id": "7c77e30a",
   "metadata": {},
   "source": [
    "### Some operations"
   ]
  },
  {
   "cell_type": "code",
   "execution_count": 9,
   "id": "e4673f4e",
   "metadata": {},
   "outputs": [
    {
     "data": {
      "text/plain": [
       "('a', 2)"
      ]
     },
     "execution_count": 9,
     "metadata": {},
     "output_type": "execute_result"
    }
   ],
   "source": [
    "a[0], b[1] # indexing starts from 0"
   ]
  },
  {
   "cell_type": "code",
   "execution_count": 10,
   "id": "c8d63efa",
   "metadata": {},
   "outputs": [
    {
     "data": {
      "text/plain": [
       "'abc'"
      ]
     },
     "execution_count": 10,
     "metadata": {},
     "output_type": "execute_result"
    }
   ],
   "source": [
    "a[:3] # slicing, up to but not including index 3"
   ]
  },
  {
   "cell_type": "code",
   "execution_count": 11,
   "id": "b282da68",
   "metadata": {},
   "outputs": [
    {
     "data": {
      "text/plain": [
       "'def'"
      ]
     },
     "execution_count": 11,
     "metadata": {},
     "output_type": "execute_result"
    }
   ],
   "source": [
    "a[3:] # slicing from index 3"
   ]
  },
  {
   "cell_type": "code",
   "execution_count": 12,
   "id": "16c23e2e",
   "metadata": {},
   "outputs": [
    {
     "data": {
      "text/plain": [
       "'abcdefaa'"
      ]
     },
     "execution_count": 12,
     "metadata": {},
     "output_type": "execute_result"
    }
   ],
   "source": [
    "a + 'aa' # concatenation"
   ]
  },
  {
   "cell_type": "code",
   "execution_count": 14,
   "id": "0bcdb751",
   "metadata": {},
   "outputs": [
    {
     "data": {
      "text/plain": [
       "'abcdef'"
      ]
     },
     "execution_count": 14,
     "metadata": {},
     "output_type": "execute_result"
    }
   ],
   "source": [
    "a[:3] + a[3:] # gives back the original sequence"
   ]
  },
  {
   "cell_type": "code",
   "execution_count": 15,
   "id": "b4781b19",
   "metadata": {},
   "outputs": [
    {
     "data": {
      "text/plain": [
       "'bc'"
      ]
     },
     "execution_count": 15,
     "metadata": {},
     "output_type": "execute_result"
    }
   ],
   "source": [
    "a[1:3] # from index 1 to 3"
   ]
  },
  {
   "cell_type": "code",
   "execution_count": 16,
   "id": "badb1756",
   "metadata": {},
   "outputs": [
    {
     "data": {
      "text/plain": [
       "'f'"
      ]
     },
     "execution_count": 16,
     "metadata": {},
     "output_type": "execute_result"
    }
   ],
   "source": [
    "a[-1] # the last element"
   ]
  },
  {
   "cell_type": "code",
   "execution_count": 17,
   "id": "fe32cb75",
   "metadata": {},
   "outputs": [
    {
     "data": {
      "text/plain": [
       "'e'"
      ]
     },
     "execution_count": 17,
     "metadata": {},
     "output_type": "execute_result"
    }
   ],
   "source": [
    "a[-2]"
   ]
  },
  {
   "cell_type": "code",
   "execution_count": 18,
   "id": "f7c84e50",
   "metadata": {},
   "outputs": [
    {
     "data": {
      "text/plain": [
       "(6, 3, 4)"
      ]
     },
     "execution_count": 18,
     "metadata": {},
     "output_type": "execute_result"
    }
   ],
   "source": [
    "len(a), len(b), len(c) # lengths"
   ]
  },
  {
   "cell_type": "code",
   "execution_count": 19,
   "id": "a5210411",
   "metadata": {},
   "outputs": [
    {
     "name": "stdout",
     "output_type": "stream",
     "text": [
      "[1, 2, 3]\n",
      "[1, 2, 3, 34]\n"
     ]
    }
   ],
   "source": [
    "# appending to a list\n",
    "print(b)\n",
    "b.append(34)\n",
    "print(b)"
   ]
  },
  {
   "cell_type": "code",
   "execution_count": 21,
   "id": "4b973c27",
   "metadata": {},
   "outputs": [
    {
     "name": "stdout",
     "output_type": "stream",
     "text": [
      "[2, 3]\n",
      "[3]\n",
      "[]\n"
     ]
    }
   ],
   "source": [
    "# popping elements from a list\n",
    "print(b)\n",
    "b.pop(0)\n",
    "print(b)\n",
    "b.pop()\n",
    "print(b)"
   ]
  },
  {
   "cell_type": "markdown",
   "id": "9b6b0010",
   "metadata": {},
   "source": [
    "## Some expressions and statements"
   ]
  },
  {
   "cell_type": "code",
   "execution_count": 22,
   "id": "55f2515f",
   "metadata": {},
   "outputs": [
    {
     "data": {
      "text/plain": [
       "(7, 12)"
      ]
     },
     "execution_count": 22,
     "metadata": {},
     "output_type": "execute_result"
    }
   ],
   "source": [
    "3 + 4, 3 * 4"
   ]
  },
  {
   "cell_type": "code",
   "execution_count": 23,
   "id": "9b371e0a",
   "metadata": {},
   "outputs": [
    {
     "data": {
      "text/plain": [
       "5"
      ]
     },
     "execution_count": 23,
     "metadata": {},
     "output_type": "execute_result"
    }
   ],
   "source": [
    "a = 2\n",
    "a += 3\n",
    "a"
   ]
  },
  {
   "cell_type": "code",
   "execution_count": 25,
   "id": "67fcc464",
   "metadata": {},
   "outputs": [
    {
     "data": {
      "text/plain": [
       "(3.25, 3)"
      ]
     },
     "execution_count": 25,
     "metadata": {},
     "output_type": "execute_result"
    }
   ],
   "source": [
    "13 / 4, 13 // 4"
   ]
  },
  {
   "cell_type": "code",
   "execution_count": 26,
   "id": "84688996",
   "metadata": {},
   "outputs": [
    {
     "data": {
      "text/plain": [
       "1"
      ]
     },
     "execution_count": 26,
     "metadata": {},
     "output_type": "execute_result"
    }
   ],
   "source": [
    "3 % 2"
   ]
  },
  {
   "cell_type": "code",
   "execution_count": 27,
   "id": "10339424",
   "metadata": {},
   "outputs": [
    {
     "data": {
      "text/plain": [
       "(False, True, False)"
      ]
     },
     "execution_count": 27,
     "metadata": {},
     "output_type": "execute_result"
    }
   ],
   "source": [
    "3 == 4, 3 < 4, 4 < 3"
   ]
  },
  {
   "cell_type": "code",
   "execution_count": 28,
   "id": "bd5670bd",
   "metadata": {},
   "outputs": [
    {
     "data": {
      "text/plain": [
       "True"
      ]
     },
     "execution_count": 28,
     "metadata": {},
     "output_type": "execute_result"
    }
   ],
   "source": [
    "3 < 4 < 5"
   ]
  },
  {
   "cell_type": "code",
   "execution_count": 29,
   "id": "f5abe309",
   "metadata": {},
   "outputs": [
    {
     "data": {
      "text/plain": [
       "True"
      ]
     },
     "execution_count": 29,
     "metadata": {},
     "output_type": "execute_result"
    }
   ],
   "source": [
    "3 < 4 and 4 < 5"
   ]
  },
  {
   "cell_type": "markdown",
   "id": "c6ad2f4c",
   "metadata": {},
   "source": [
    "### if, for, while"
   ]
  },
  {
   "cell_type": "code",
   "execution_count": 30,
   "id": "bbc9e625",
   "metadata": {},
   "outputs": [
    {
     "name": "stdout",
     "output_type": "stream",
     "text": [
      "The else branch.\n"
     ]
    }
   ],
   "source": [
    "a = 3\n",
    "b = 3\n",
    "if a < b:\n",
    "    print(\"The condition is true.\")\n",
    "elif b < a:\n",
    "    print(\"The first elif branch.\")\n",
    "else: print(\"The else branch.\")"
   ]
  },
  {
   "cell_type": "code",
   "execution_count": 31,
   "id": "539321de",
   "metadata": {},
   "outputs": [
    {
     "data": {
      "text/plain": [
       "[0, 1, 2, 3, 4, 5, 6, 7, 8, 9]"
      ]
     },
     "execution_count": 31,
     "metadata": {},
     "output_type": "execute_result"
    }
   ],
   "source": [
    "l = list(range(10))\n",
    "l"
   ]
  },
  {
   "cell_type": "code",
   "execution_count": 35,
   "id": "871cceba",
   "metadata": {},
   "outputs": [
    {
     "name": "stdout",
     "output_type": "stream",
     "text": [
      "0\n",
      "1\n",
      "2\n",
      "3\n",
      "4\n",
      "5\n",
      "6\n",
      "7\n",
      "8\n",
      "9\n"
     ]
    }
   ],
   "source": [
    "for e in l:\n",
    "    print(e)"
   ]
  },
  {
   "cell_type": "code",
   "execution_count": 37,
   "id": "a54f1b42",
   "metadata": {},
   "outputs": [
    {
     "name": "stdout",
     "output_type": "stream",
     "text": [
      "1\n",
      "2\n",
      "3\n",
      "6\n",
      "9\n"
     ]
    }
   ],
   "source": [
    "x = 1\n",
    "while x < 10:\n",
    "    print(x)\n",
    "    if x % 3 != 0:\n",
    "        x += 1\n",
    "    else:\n",
    "        x += 3"
   ]
  },
  {
   "cell_type": "markdown",
   "id": "2881e33d",
   "metadata": {},
   "source": [
    "**Exercise**: Add all the even numbers in l and print the result."
   ]
  },
  {
   "cell_type": "code",
   "execution_count": null,
   "id": "2422b412-65fc-4d21-a2dc-2e634410340d",
   "metadata": {},
   "outputs": [],
   "source": []
  },
  {
   "cell_type": "markdown",
   "id": "2cbddff6",
   "metadata": {},
   "source": [
    "**Exercise**: Collect all the even numbers in l into a new list l_even."
   ]
  },
  {
   "cell_type": "code",
   "execution_count": null,
   "id": "6a2dbfbf",
   "metadata": {},
   "outputs": [],
   "source": []
  },
  {
   "cell_type": "markdown",
   "id": "38e68fb9",
   "metadata": {},
   "source": [
    "**Exercise**: Solve the [FizzBuzz problem](https://en.wikipedia.org/wiki/Fizz_buzz)"
   ]
  },
  {
   "cell_type": "code",
   "execution_count": null,
   "id": "40a000e4",
   "metadata": {},
   "outputs": [],
   "source": []
  },
  {
   "cell_type": "markdown",
   "id": "a7a4676f",
   "metadata": {},
   "source": [
    "### break, continue, else"
   ]
  },
  {
   "cell_type": "code",
   "execution_count": 49,
   "id": "89f7f88c",
   "metadata": {},
   "outputs": [
    {
     "data": {
      "text/plain": [
       "[3, 8, 4, 2, 6, 5, 1, 0, 9, 7]"
      ]
     },
     "execution_count": 49,
     "metadata": {},
     "output_type": "execute_result"
    }
   ],
   "source": [
    "l = list(range(10))\n",
    "import random\n",
    "random.shuffle(l)\n",
    "l"
   ]
  },
  {
   "cell_type": "markdown",
   "id": "f0970f8b",
   "metadata": {},
   "source": [
    "#### 3 versions of a search"
   ]
  },
  {
   "cell_type": "code",
   "execution_count": 54,
   "id": "7eabeb1b",
   "metadata": {},
   "outputs": [
    {
     "name": "stdout",
     "output_type": "stream",
     "text": [
      "Found 8 at index 1\n"
     ]
    }
   ],
   "source": [
    "to_find = 8\n",
    "i = 0\n",
    "for e in l:\n",
    "    if e == to_find:\n",
    "        print(f'Found {to_find} at index {i}')\n",
    "        break\n",
    "    i += 1\n",
    "else:\n",
    "    print(f'{to_find} was not found in the list')"
   ]
  },
  {
   "cell_type": "code",
   "execution_count": 55,
   "id": "7e0b4320",
   "metadata": {},
   "outputs": [
    {
     "data": {
      "text/plain": [
       "[(0, 3),\n",
       " (1, 8),\n",
       " (2, 4),\n",
       " (3, 2),\n",
       " (4, 6),\n",
       " (5, 5),\n",
       " (6, 1),\n",
       " (7, 0),\n",
       " (8, 9),\n",
       " (9, 7)]"
      ]
     },
     "execution_count": 55,
     "metadata": {},
     "output_type": "execute_result"
    }
   ],
   "source": [
    "list(enumerate(l))"
   ]
  },
  {
   "cell_type": "code",
   "execution_count": 57,
   "id": "76f009e7",
   "metadata": {},
   "outputs": [
    {
     "name": "stdout",
     "output_type": "stream",
     "text": [
      "Found 8 at index 1\n"
     ]
    }
   ],
   "source": [
    "to_find = 8\n",
    "for i, e in enumerate(l):\n",
    "    if e == to_find:\n",
    "        print(f'Found {to_find} at index {i}')\n",
    "        break\n",
    "else:\n",
    "    print(f'{to_find} was not found in the list')"
   ]
  },
  {
   "cell_type": "code",
   "execution_count": 60,
   "id": "e6b1b327",
   "metadata": {},
   "outputs": [
    {
     "name": "stdout",
     "output_type": "stream",
     "text": [
      "81 not found.\n"
     ]
    }
   ],
   "source": [
    "to_find = 8\n",
    "print(f'Found {to_find} at index {l.index(to_find)}') # we would have to handle the exception if the element is not in the list"
   ]
  },
  {
   "cell_type": "markdown",
   "id": "442dfd6f",
   "metadata": {},
   "source": [
    "#### continue"
   ]
  },
  {
   "cell_type": "code",
   "execution_count": 61,
   "id": "e06ede21",
   "metadata": {},
   "outputs": [
    {
     "name": "stdout",
     "output_type": "stream",
     "text": [
      "0\n",
      "3\n",
      "6\n",
      "9\n"
     ]
    }
   ],
   "source": [
    "for i in range(10):\n",
    "    if i % 3 != 0:\n",
    "        continue\n",
    "    print(i)"
   ]
  },
  {
   "cell_type": "markdown",
   "id": "7b102166",
   "metadata": {},
   "source": [
    "**Exercise**: Find the largest even number in l"
   ]
  },
  {
   "cell_type": "code",
   "execution_count": 62,
   "id": "e91e2187",
   "metadata": {},
   "outputs": [
    {
     "data": {
      "text/plain": [
       "[9, 19, 13, 8, 14, 6, 2, 15, 7, 1, 3, 10, 18, 17, 12, 4, 16, 0, 11, 5]"
      ]
     },
     "execution_count": 62,
     "metadata": {},
     "output_type": "execute_result"
    }
   ],
   "source": [
    "l = list(range(20))\n",
    "random.shuffle(l)\n",
    "l"
   ]
  },
  {
   "cell_type": "code",
   "execution_count": null,
   "id": "3962fdd6",
   "metadata": {},
   "outputs": [],
   "source": []
  },
  {
   "cell_type": "markdown",
   "id": "ad31931e",
   "metadata": {},
   "source": [
    "## List comprehensions"
   ]
  },
  {
   "cell_type": "code",
   "execution_count": 76,
   "id": "d36b0a32",
   "metadata": {},
   "outputs": [
    {
     "data": {
      "text/plain": [
       "[0, 1, 4, 9, 16, 4, 5, 8, 13, 20, 16, 17, 20, 25, 32]"
      ]
     },
     "execution_count": 76,
     "metadata": {},
     "output_type": "execute_result"
    }
   ],
   "source": [
    "[x**2 for x in range(5)]"
   ]
  },
  {
   "cell_type": "code",
   "execution_count": 77,
   "id": "1a508797",
   "metadata": {},
   "outputs": [
    {
     "data": {
      "text/plain": [
       "[(0, 0), (1, 1), (2, 4), (3, 9), (4, 16)]"
      ]
     },
     "execution_count": 77,
     "metadata": {},
     "output_type": "execute_result"
    }
   ],
   "source": [
    "[(x, x**2) for x in range(5)]"
   ]
  },
  {
   "cell_type": "code",
   "execution_count": 78,
   "id": "e9f2dfb8",
   "metadata": {},
   "outputs": [
    {
     "data": {
      "text/plain": [
       "[(0, 0), (2, 4), (4, 16)]"
      ]
     },
     "execution_count": 78,
     "metadata": {},
     "output_type": "execute_result"
    }
   ],
   "source": [
    "[(x, x**2) for x in range(5) if x % 2 == 0]"
   ]
  },
  {
   "cell_type": "markdown",
   "id": "c3743c6b",
   "metadata": {},
   "source": [
    "**Exercise**: write a list comprehension to collect all the strings with length 3"
   ]
  },
  {
   "cell_type": "code",
   "execution_count": 79,
   "id": "cca031e3",
   "metadata": {},
   "outputs": [],
   "source": [
    "l = ['bacd', 'abc', 'ab', 'a', 'bcd', 'cdef', 'cde']"
   ]
  },
  {
   "cell_type": "code",
   "execution_count": null,
   "id": "073bd94e",
   "metadata": {},
   "outputs": [],
   "source": []
  },
  {
   "cell_type": "markdown",
   "id": "7b697619",
   "metadata": {},
   "source": [
    "## Sets and dictionaries"
   ]
  },
  {
   "cell_type": "markdown",
   "id": "bbb49c0c",
   "metadata": {},
   "source": [
    "### Sets"
   ]
  },
  {
   "cell_type": "code",
   "execution_count": 14,
   "id": "0edd6cb5",
   "metadata": {},
   "outputs": [
    {
     "data": {
      "text/plain": [
       "{1, 2, 3, 4}"
      ]
     },
     "execution_count": 14,
     "metadata": {},
     "output_type": "execute_result"
    }
   ],
   "source": [
    "a = {1, 2, 3, 4}\n",
    "a"
   ]
  },
  {
   "cell_type": "code",
   "execution_count": 84,
   "id": "ce0b389d",
   "metadata": {},
   "outputs": [
    {
     "data": {
      "text/plain": [
       "{1, 2, 3, 4, 5}"
      ]
     },
     "execution_count": 84,
     "metadata": {},
     "output_type": "execute_result"
    }
   ],
   "source": [
    "a.add(5)\n",
    "a"
   ]
  },
  {
   "cell_type": "code",
   "execution_count": 85,
   "id": "0d739fc8",
   "metadata": {},
   "outputs": [
    {
     "data": {
      "text/plain": [
       "{1, 2, 3, 4, 5}"
      ]
     },
     "execution_count": 85,
     "metadata": {},
     "output_type": "execute_result"
    }
   ],
   "source": [
    "a.add(5)\n",
    "a"
   ]
  },
  {
   "cell_type": "code",
   "execution_count": 86,
   "id": "8aaca4b1",
   "metadata": {},
   "outputs": [
    {
     "data": {
      "text/plain": [
       "[0, 1, 2, 3, 4, 0, 1, 2, 3, 4]"
      ]
     },
     "execution_count": 86,
     "metadata": {},
     "output_type": "execute_result"
    }
   ],
   "source": [
    "l = list(range(5)) + list(range(5))\n",
    "l"
   ]
  },
  {
   "cell_type": "code",
   "execution_count": 87,
   "id": "d3ad3381",
   "metadata": {},
   "outputs": [
    {
     "data": {
      "text/plain": [
       "{0, 1, 2, 3, 4}"
      ]
     },
     "execution_count": 87,
     "metadata": {},
     "output_type": "execute_result"
    }
   ],
   "source": [
    "set(l)"
   ]
  },
  {
   "cell_type": "code",
   "execution_count": 88,
   "id": "d6e160ca",
   "metadata": {},
   "outputs": [
    {
     "data": {
      "text/plain": [
       "(True, False)"
      ]
     },
     "execution_count": 88,
     "metadata": {},
     "output_type": "execute_result"
    }
   ],
   "source": [
    "3 in a, 13 in a"
   ]
  },
  {
   "cell_type": "code",
   "execution_count": 89,
   "id": "bcfa92d2",
   "metadata": {},
   "outputs": [
    {
     "name": "stdout",
     "output_type": "stream",
     "text": [
      "1\n",
      "2\n",
      "3\n",
      "4\n",
      "5\n"
     ]
    }
   ],
   "source": [
    "for e in a:\n",
    "    print(e)"
   ]
  },
  {
   "cell_type": "markdown",
   "id": "8c74609e",
   "metadata": {},
   "source": [
    "**Exercise**: Add the unique elements of l. If you already encountered an element, don't add it to the sum"
   ]
  },
  {
   "cell_type": "code",
   "execution_count": 90,
   "id": "98f3cbbe",
   "metadata": {},
   "outputs": [],
   "source": [
    "l = [1, 1, 2, 3, 2, 4, 5, 2, 3]"
   ]
  },
  {
   "cell_type": "code",
   "execution_count": null,
   "id": "fa5a2f72",
   "metadata": {},
   "outputs": [],
   "source": []
  },
  {
   "cell_type": "markdown",
   "id": "e94ce1ba",
   "metadata": {},
   "source": [
    "### Dictionaries"
   ]
  },
  {
   "cell_type": "code",
   "execution_count": 3,
   "id": "1540d85a",
   "metadata": {},
   "outputs": [
    {
     "data": {
      "text/plain": [
       "{'a': 1, 'b': 5}"
      ]
     },
     "execution_count": 3,
     "metadata": {},
     "output_type": "execute_result"
    }
   ],
   "source": [
    "d = {'a' : 1, 'b': 5}\n",
    "d"
   ]
  },
  {
   "cell_type": "code",
   "execution_count": 4,
   "id": "2f63f849",
   "metadata": {},
   "outputs": [
    {
     "data": {
      "text/plain": [
       "1"
      ]
     },
     "execution_count": 4,
     "metadata": {},
     "output_type": "execute_result"
    }
   ],
   "source": [
    "d['a']"
   ]
  },
  {
   "cell_type": "code",
   "execution_count": 5,
   "id": "fc996461",
   "metadata": {},
   "outputs": [],
   "source": [
    "d['c'] = 35"
   ]
  },
  {
   "cell_type": "markdown",
   "id": "433daac1",
   "metadata": {},
   "source": [
    "You can assign to any key, but can only access existing keys: `d['d']` would give an error."
   ]
  },
  {
   "cell_type": "code",
   "execution_count": 12,
   "id": "b167c6b5",
   "metadata": {},
   "outputs": [
    {
     "name": "stdout",
     "output_type": "stream",
     "text": [
      "a 1\n",
      "b 5\n",
      "c 35\n"
     ]
    }
   ],
   "source": [
    "for key in d:\n",
    "    print(key, d[key])"
   ]
  },
  {
   "cell_type": "code",
   "execution_count": 13,
   "id": "cfe11e99",
   "metadata": {},
   "outputs": [
    {
     "name": "stdout",
     "output_type": "stream",
     "text": [
      "a 1\n",
      "b 5\n",
      "c 35\n"
     ]
    }
   ],
   "source": [
    "for key, value in d.items():\n",
    "    print(key, value)"
   ]
  },
  {
   "cell_type": "markdown",
   "id": "07162f0a",
   "metadata": {},
   "source": [
    "### Set and dictionary comprehensions"
   ]
  },
  {
   "cell_type": "code",
   "execution_count": 19,
   "id": "faef3d10",
   "metadata": {},
   "outputs": [
    {
     "data": {
      "text/plain": [
       "{0, 1}"
      ]
     },
     "execution_count": 19,
     "metadata": {},
     "output_type": "execute_result"
    }
   ],
   "source": [
    "{x**2 for x in a if x % 2 == 0}"
   ]
  },
  {
   "cell_type": "code",
   "execution_count": 20,
   "id": "68eac8db",
   "metadata": {},
   "outputs": [
    {
     "data": {
      "text/plain": [
       "{1: 1, 3: 9, 5: 25, 7: 49, 9: 81}"
      ]
     },
     "execution_count": 20,
     "metadata": {},
     "output_type": "execute_result"
    }
   ],
   "source": [
    "d = {x: x**2 for x in range(10) if x%2 == 1}\n",
    "d"
   ]
  },
  {
   "cell_type": "markdown",
   "id": "5508fe73",
   "metadata": {},
   "source": [
    "**Exercise**: Invert the dictionary d. The keys should be the values, and the values should be the keys."
   ]
  },
  {
   "cell_type": "code",
   "execution_count": null,
   "id": "0a62c701",
   "metadata": {},
   "outputs": [],
   "source": []
  }
 ],
 "metadata": {
  "jupytext": {
   "custom_cell_magics": "kql",
   "encoding": "# -*- coding: utf-8 -*-",
   "formats": "ipynb,py:percent"
  },
  "kernelspec": {
   "display_name": "Python 3 (ipykernel)",
   "language": "python",
   "name": "python3"
  },
  "language_info": {
   "codemirror_mode": {
    "name": "ipython",
    "version": 3
   },
   "file_extension": ".py",
   "mimetype": "text/x-python",
   "name": "python",
   "nbconvert_exporter": "python",
   "pygments_lexer": "ipython3",
   "version": "3.13.5"
  }
 },
 "nbformat": 4,
 "nbformat_minor": 5
}
